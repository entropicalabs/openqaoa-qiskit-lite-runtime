{
 "cells": [
  {
   "cell_type": "code",
   "execution_count": null,
   "id": "1e63daf1-0f1f-47c0-a28a-0665de87a877",
   "metadata": {},
   "outputs": [],
   "source": [
    "from qiskit_ibm_runtime import QiskitRuntimeService, Session\n",
    "from qiskit_ibm_runtime.program import UserMessenger\n",
    "from qiskit_ibm_provider import IBMProvider\n",
    "\n",
    "from openqaoa.problems import MaximumCut\n",
    "import oq_runtime_qaoa as oq_run\n",
    "import matplotlib.pyplot as plt"
   ]
  },
  {
   "cell_type": "code",
   "execution_count": null,
   "id": "7e95e0be-3d5f-4ad0-8e0a-0ffdc1a78281",
   "metadata": {},
   "outputs": [],
   "source": [
    "service = QiskitRuntimeService(instance=\"<YOUR IBMQ ACCESS INSTANCE>\")"
   ]
  },
  {
   "cell_type": "code",
   "execution_count": null,
   "id": "0c539ba2-4b8b-4345-a149-4bf280671269",
   "metadata": {},
   "outputs": [],
   "source": [
    "#prints the credentials associated with an active IBMQ account\n",
    "service.active_account()"
   ]
  },
  {
   "cell_type": "code",
   "execution_count": null,
   "id": "b9e8f19f-2dd2-4327-893f-c523da6dbad6",
   "metadata": {},
   "outputs": [],
   "source": [
    "user_messenger = UserMessenger()\n",
    "\n",
    "maxcut = MaximumCut.random_instance(n_nodes=15, edge_probability=0.5)\n",
    "maxcut_qubo = maxcut.qubo\n",
    "maxcut_qubo_dict = maxcut_qubo.asdict()"
   ]
  },
  {
   "cell_type": "code",
   "execution_count": null,
   "id": "49964bf9-cfdb-4ea3-ab99-d4befc1e4717",
   "metadata": {},
   "outputs": [],
   "source": [
    "from openqaoa.utilities import plot_graph"
   ]
  },
  {
   "cell_type": "code",
   "execution_count": null,
   "id": "28179406-a9b3-4266-aebd-39a285f71f0e",
   "metadata": {},
   "outputs": [],
   "source": [
    "plot_graph(maxcut.G)"
   ]
  },
  {
   "cell_type": "code",
   "execution_count": null,
   "id": "246812a4-6a4e-44e6-b524-bab9cbef9536",
   "metadata": {},
   "outputs": [],
   "source": [
    "optimizer_dict = dict({\"maxiter\":150, \"method\":\"COBYLA\", \"optimization_progress\":True})\n",
    "program_inputs = {\n",
    "    \"qubo_dict\":maxcut_qubo_dict,\n",
    "    \"p\":1,\n",
    "    \"n_shots\":5000,\n",
    "    \"circuit_optimization_level\":2,\n",
    "    \"optimizer_dict\":optimizer_dict\n",
    "}"
   ]
  },
  {
   "cell_type": "code",
   "execution_count": null,
   "id": "7d98be5e-112c-4b39-982d-45dd46f07310",
   "metadata": {},
   "outputs": [],
   "source": [
    "backend=\"ibmq_guadalupe\""
   ]
  },
  {
   "cell_type": "code",
   "execution_count": null,
   "id": "e3ece8fe-b2c6-4c5a-ad16-b2b48eecdcd9",
   "metadata": {},
   "outputs": [],
   "source": [
    "with Session(service=service, backend=backend) as session:\n",
    "    \n",
    "    # Submit a request to the OpenQAOA runtime within the session.\n",
    "    runtime_job = service.run(program_id = 'PROGRAM_ID_CUSTOM_RUNTIME',\n",
    "                              inputs = program_inputs,\n",
    "                              options = {\"backend\": backend})\n",
    "    \n",
    "    print(f\"QAOA results: {runtime_job.result()}\")\n",
    "\n",
    "    # Close the session only if all jobs are finished\n",
    "    # and you don't need to run more in the session.\n",
    "    session.close()"
   ]
  },
  {
   "cell_type": "code",
   "execution_count": null,
   "id": "d4e3858c-6527-48c1-8174-4685848ba513",
   "metadata": {},
   "outputs": [],
   "source": [
    "plt.plot(runtime_job.result()['intermediate']['cost'])\n",
    "plt.xlabel(\"iterations\")\n",
    "plt.ylabel(\"Cost\")\n",
    "plt.title(\"15 qubit QAOA optimization on ibmq_guadalupe\")"
   ]
  },
  {
   "cell_type": "code",
   "execution_count": null,
   "id": "928a59d6-4760-4ca1-ae12-eb3a527418e3",
   "metadata": {},
   "outputs": [],
   "source": [
    "from openqaoa import create_device, QAOA"
   ]
  },
  {
   "cell_type": "code",
   "execution_count": null,
   "id": "e759ac66-cdf3-4625-92dc-d9361e1ebdc6",
   "metadata": {},
   "outputs": [],
   "source": [
    "local_qasm_simulator = create_device(\"local\", \"qiskit.qasm_simulator\")"
   ]
  },
  {
   "cell_type": "code",
   "execution_count": null,
   "id": "cfc3aae7-7988-4e6b-b69c-5d930c95f9ab",
   "metadata": {},
   "outputs": [],
   "source": [
    "q = QAOA()\n",
    "q.set_device(local_qasm_simulator)\n",
    "q.set_backend_properties(n_shots=5000)\n",
    "q.set_classical_optimizer(method=\"COBYLA\", optimization_progress=True,maxiter=150)"
   ]
  },
  {
   "cell_type": "code",
   "execution_count": null,
   "id": "ac686bc4-e906-4f1d-b265-48958bddb0c5",
   "metadata": {},
   "outputs": [],
   "source": [
    "q.compile(maxcut_qubo)"
   ]
  },
  {
   "cell_type": "code",
   "execution_count": null,
   "id": "7e881b1a-7e6c-4164-b169-8f47e6a2f058",
   "metadata": {},
   "outputs": [],
   "source": [
    "q.optimize()"
   ]
  },
  {
   "cell_type": "code",
   "execution_count": null,
   "id": "d2c46b12-c813-4d76-8047-32855d8ed416",
   "metadata": {},
   "outputs": [],
   "source": [
    "q.result.plot_cost(label=\"15 qubit QAOA on qasm_simulator\")"
   ]
  }
 ],
 "metadata": {
  "kernelspec": {
   "display_name": "Test_OQ_Runtime",
   "language": "python",
   "name": "test_oq_runtime"
  },
  "language_info": {
   "codemirror_mode": {
    "name": "ipython",
    "version": 3
   },
   "file_extension": ".py",
   "mimetype": "text/x-python",
   "name": "python",
   "nbconvert_exporter": "python",
   "pygments_lexer": "ipython3",
   "version": "3.10.11"
  }
 },
 "nbformat": 4,
 "nbformat_minor": 5
}
